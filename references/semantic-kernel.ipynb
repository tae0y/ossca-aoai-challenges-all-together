{
 "cells": [
  {
   "cell_type": "code",
   "execution_count": 2,
   "metadata": {
    "dotnet_interactive": {
     "language": "csharp"
    },
    "polyglot_notebook": {
     "kernelName": "csharp"
    },
    "vscode": {
     "languageId": "polyglot-notebook"
    }
   },
   "outputs": [
    {
     "data": {
      "text/html": [
       "<div><div></div><div></div><div><strong>Installed Packages</strong><ul><li><span>MelonChart.NET, 2.0.0</span></li><li><span>Microsoft.SemanticKernel, 1.16.1</span></li><li><span>Microsoft.SemanticKernel.Connectors.OpenAI, 1.16.1</span></li><li><span>Microsoft.SemanticKernel.Core, 1.16.1</span></li><li><span>Microsoft.SemanticKernel.Plugins.Core, 1.16.1-alpha</span></li><li><span>Microsoft.SemanticKernel.Plugins.Memory, 1.16.1-alpha</span></li><li><span>System.Linq.Async, 6.0.1</span></li></ul></div></div>"
      ]
     },
     "metadata": {},
     "output_type": "display_data"
    }
   ],
   "source": [
    "// Nuget Packages\n",
    "#r \"nuget: MelonChart.NET, 2.*\"\n",
    "\n",
    "#r \"nuget: Microsoft.SemanticKernel, 1.*\"\n",
    "#r \"nuget: Microsoft.SemanticKernel.Connectors.OpenAI, 1.*\"\n",
    "#r \"nuget: Microsoft.SemanticKernel.Core, 1.*\"\n",
    "#r \"nuget: Microsoft.SemanticKernel.Plugins.Core, 1.*-*\"\n",
    "#r \"nuget: Microsoft.SemanticKernel.Plugins.Memory, 1.*-*\"\n",
    "\n",
    "#r \"nuget: System.Linq.Async, 6.*\""
   ]
  },
  {
   "cell_type": "code",
   "execution_count": 3,
   "metadata": {
    "dotnet_interactive": {
     "language": "csharp"
    },
    "polyglot_notebook": {
     "kernelName": "csharp"
    },
    "vscode": {
     "languageId": "polyglot-notebook"
    }
   },
   "outputs": [],
   "source": [
    "// Add using statements\n",
    "using System.ComponentModel;\n",
    "using System.Net.Http;\n",
    "using System.Text.Encodings.Web;\n",
    "using System.Text.Json;\n",
    "using System.Text.Json.Serialization;\n",
    "\n",
    "using MelonChart.Models;\n",
    "\n",
    "using Microsoft.SemanticKernel;\n",
    "using Microsoft.SemanticKernel.Connectors.OpenAI;\n",
    "using Microsoft.SemanticKernel.Memory;\n",
    "\n",
    "using Kernel = Microsoft.SemanticKernel.Kernel;"
   ]
  },
  {
   "cell_type": "code",
   "execution_count": 4,
   "metadata": {
    "dotnet_interactive": {
     "language": "csharp"
    },
    "polyglot_notebook": {
     "kernelName": "csharp"
    },
    "vscode": {
     "languageId": "polyglot-notebook"
    }
   },
   "outputs": [],
   "source": [
    "// Azure OpenAI configurations\n",
    "var endpoint = \"<endpoint-placeholder>\";\n",
    "var apiKey = \"<apikey-placeholder>\";\n",
    "var deploymentName = \"<deploymentname-placeholder>\";"
   ]
  },
  {
   "cell_type": "code",
   "execution_count": 5,
   "metadata": {
    "dotnet_interactive": {
     "language": "csharp"
    },
    "polyglot_notebook": {
     "kernelName": "csharp"
    },
    "vscode": {
     "languageId": "polyglot-notebook"
    }
   },
   "outputs": [],
   "source": [
    "// Build Semantic Kernel\n",
    "var kernel = Kernel.CreateBuilder()\n",
    "                   .AddAzureOpenAIChatCompletion(\n",
    "                       deploymentName: deploymentName,\n",
    "                       endpoint: endpoint,\n",
    "                       apiKey: apiKey)\n",
    "                   .Build();\n",
    "\n",
    "var prompts = kernel.ImportPluginFromPromptDirectory(\"Prompts\");\n",
    "\n",
    "// Import codes\n",
    "#!import Plugins/AddMemory/AddMelonChartPlugin.cs\n",
    "\n",
    "// Import plugins\n",
    "kernel.ImportPluginFromType<AddMelonChartPlugin>();"
   ]
  },
  {
   "cell_type": "code",
   "execution_count": 6,
   "metadata": {
    "dotnet_interactive": {
     "language": "csharp"
    },
    "polyglot_notebook": {
     "kernelName": "csharp"
    },
    "vscode": {
     "languageId": "polyglot-notebook"
    }
   },
   "outputs": [],
   "source": [
    "// Build Semantic Memory\n",
    "#pragma warning disable SKEXP0001\n",
    "#pragma warning disable SKEXP0010\n",
    "#pragma warning disable SKEXP0050\n",
    "\n",
    "var memory = new MemoryBuilder()\n",
    "                 .WithAzureOpenAITextEmbeddingGeneration(\n",
    "                     deploymentName: \"model-textembeddingada002-2\",\n",
    "                     endpoint: endpoint,\n",
    "                     apiKey: apiKey)\n",
    "                 .WithMemoryStore(new VolatileMemoryStore())\n",
    "                 .Build();"
   ]
  },
  {
   "cell_type": "code",
   "execution_count": 7,
   "metadata": {
    "dotnet_interactive": {
     "language": "csharp"
    },
    "polyglot_notebook": {
     "kernelName": "csharp"
    },
    "vscode": {
     "languageId": "polyglot-notebook"
    }
   },
   "outputs": [],
   "source": [
    "// Add HttpClient instance.\n",
    "var http = new HttpClient();"
   ]
  },
  {
   "cell_type": "code",
   "execution_count": 8,
   "metadata": {
    "dotnet_interactive": {
     "language": "csharp"
    },
    "polyglot_notebook": {
     "kernelName": "csharp"
    },
    "vscode": {
     "languageId": "polyglot-notebook"
    }
   },
   "outputs": [],
   "source": [
    "// Add JsonSerializerOptions instance.\n",
    "var jso = new JsonSerializerOptions()\n",
    "{\n",
    "    WriteIndented = false,\n",
    "    PropertyNamingPolicy = JsonNamingPolicy.CamelCase,\n",
    "    Encoder = JavaScriptEncoder.UnsafeRelaxedJsonEscaping,\n",
    "    Converters = { new JsonStringEnumConverter(JsonNamingPolicy.CamelCase) },\n",
    "};"
   ]
  },
  {
   "cell_type": "code",
   "execution_count": 9,
   "metadata": {
    "dotnet_interactive": {
     "language": "csharp"
    },
    "polyglot_notebook": {
     "kernelName": "csharp"
    },
    "vscode": {
     "languageId": "polyglot-notebook"
    }
   },
   "outputs": [
    {
     "name": "stdout",
     "output_type": "stream",
     "text": [
      "User: 에스파 현재 랭킹이 몇위야?\n"
     ]
    }
   ],
   "source": [
    "var question = await Microsoft.DotNet.Interactive.Kernel.GetInputAsync(\"무엇이 궁금한가요?\");\n",
    "\n",
    "Console.WriteLine($\"User: {question}\");"
   ]
  },
  {
   "cell_type": "code",
   "execution_count": 10,
   "metadata": {
    "dotnet_interactive": {
     "language": "csharp"
    },
    "polyglot_notebook": {
     "kernelName": "csharp"
    },
    "vscode": {
     "languageId": "polyglot-notebook"
    }
   },
   "outputs": [
    {
     "name": "stdout",
     "output_type": "stream",
     "text": [
      "CurrentRank\n"
     ]
    }
   ],
   "source": [
    "var intent = await kernel.InvokeAsync<string>(\n",
    "                        function: prompts[\"GetIntent\"],\n",
    "                        arguments: new KernelArguments()\n",
    "                        {\n",
    "                            { \"input\", question }\n",
    "                        });\n",
    "\n",
    "Console.WriteLine(intent);"
   ]
  },
  {
   "cell_type": "code",
   "execution_count": 11,
   "metadata": {
    "dotnet_interactive": {
     "language": "csharp"
    },
    "polyglot_notebook": {
     "kernelName": "csharp"
    },
    "vscode": {
     "languageId": "polyglot-notebook"
    }
   },
   "outputs": [
    {
     "name": "stdout",
     "output_type": "stream",
     "text": [
      "What is the rank of the song, 에스파, in the chart?\n"
     ]
    }
   ],
   "source": [
    "// Invoke the prompt - RefineQuestion\n",
    "var refined = await kernel.InvokeAsync<string>(\n",
    "                        function: prompts[\"RefineQuestion\"],\n",
    "                        arguments: new KernelArguments()\n",
    "                        {\n",
    "                            { \"input\", question },\n",
    "                            { \"intent\", intent }\n",
    "                        });\n",
    "\n",
    "Console.WriteLine(refined);"
   ]
  },
  {
   "cell_type": "code",
   "execution_count": 12,
   "metadata": {
    "dotnet_interactive": {
     "language": "csharp"
    },
    "polyglot_notebook": {
     "kernelName": "csharp"
    },
    "vscode": {
     "languageId": "polyglot-notebook"
    }
   },
   "outputs": [
    {
     "name": "stdout",
     "output_type": "stream",
     "text": [
      "- Stored: aespa - Supernova\n",
      "- Stored: NewJeans - How Sweet\n",
      "- Stored: 이영지 - Small girl (feat. 도경수(D.O.))\n",
      "- Stored: (여자)아이들 - 클락션 (Klaxon)\n",
      "- Stored: NewJeans - Supernatural\n",
      "- Stored: KISS OF LIFE - Sticky\n",
      "- Stored: 이클립스 (ECLIPSE) - 소나기\n",
      "- Stored: QWER - 고민중독\n",
      "- Stored: NewJeans - Bubble Gum\n",
      "- Stored: DAY6 (데이식스) - 한 페이지가 될 수 있게\n",
      "- Stored: (여자)아이들 - 나는 아픈 건 딱 질색이니까\n",
      "- Stored: aespa - Armageddon\n",
      "- Stored: 아일릿(ILLIT) - Magnetic\n",
      "- Stored: IVE (아이브) - 해야 (HEYA)\n",
      "- Stored: 지코 (ZICO) - SPOT! (feat. JENNIE)\n",
      "- Stored: TWS (투어스) - 첫 만남은 계획대로 되지 않아\n",
      "- Stored: DAY6 (데이식스) - Welcome to the Show\n",
      "- Stored: DAY6 (데이식스) - 예뻤어\n",
      "- Stored: 이창섭 - 천상연\n",
      "- Stored: 이무진 - 에피소드\n",
      "- Stored: Crush - 미안해 미워해 사랑해\n",
      "- Stored: RIIZE - Boom Boom Bass\n",
      "- Stored: NewJeans - Hype Boy\n",
      "- Stored: 아이유 - Love wins all\n",
      "- Stored: 임재현 - 비의 랩소디\n",
      "- Stored: 순순희 (지환) - 슬픈 초대장\n",
      "- Stored: IVE (아이브) - I AM\n",
      "- Stored: 너드커넥션 (Nerd Connection) - 그대만 있다면 (여름날 우리 X 너드커넥션 (Nerd Connection))\n",
      "- Stored: TWS (투어스) - 내가 S면 넌 나의 N이 되어줘\n",
      "- Stored: 비비 (BIBI) - 밤양갱\n",
      "- Stored: NewJeans - ETA\n",
      "- Stored: 허각 - 오래된 노래\n",
      "- Stored: 정국 - Seven (feat. Latto) - Clean Ver.\n",
      "- Stored: NewJeans - Super Shy\n",
      "- Stored: 박재정 - 헤어지자 말해요\n",
      "- Stored: BABYMONSTER - SHEESH\n",
      "- Stored: 태연 (TAEYEON) - To. X\n",
      "- Stored: NewJeans - Attention\n",
      "- Stored: 임영웅 - 사랑은 늘 도망가\n",
      "- Stored: NewJeans - Ditto\n",
      "- Stored: aespa - Drama\n",
      "- Stored: 성시경 - 너의 모든 순간\n",
      "- Stored: 멜로망스 - 사랑인가 봐\n",
      "- Stored: aespa - Spicy\n",
      "- Stored: (여자)아이들 - 퀸카 (Queencard)\n",
      "- Stored: 이무진 - 청혼하지 않을 이유를 못 찾았어\n",
      "- Stored: 범진 - 인사\n",
      "- Stored: 잔나비 - 주저하는 연인들을 위해\n",
      "- Stored: tripleS (트리플에스) - Girls Never Die\n",
      "- Stored: 윤하 (YOUNHA) - 사건의 지평선\n",
      "- Stored: 부석순 (SEVENTEEN) - 파이팅 해야지 (Feat. 이영지)\n",
      "- Stored: 우디 (Woody) - 사막에서 꽃을 피우듯\n",
      "- Stored: IVE (아이브) - LOVE DIVE\n",
      "- Stored: 유회승 (엔플라잉) - 그랬나봐\n",
      "- Stored: IVE (아이브) - Accendio\n",
      "- Stored: NewJeans - OMG\n",
      "- Stored: RIIZE - Love 119\n",
      "- Stored: LE SSERAFIM (르세라핌) - Perfect Night\n",
      "- Stored: 폴킴 - 모든 날, 모든 순간 (Every day, Every Moment)\n",
      "- Stored: AKMU (악뮤) - Love Lee\n",
      "- Stored: RIIZE - Get A Guitar\n",
      "- Stored: 엔플라잉 (N.Flying) - 네가 내 마음에 자리 잡았다 (Into You)\n",
      "- Stored: 방탄소년단 - Dynamite\n",
      "- Stored: AKMU (악뮤) - 어떻게 이별까지 사랑하겠어, 널 사랑하는 거지\n",
      "- Stored: Charlie Puth - I Don't Think That I Like Her\n",
      "- Stored: 경서예지 - 다정히 내 이름을 부르면\n",
      "- Stored: VIVIZ (비비지) - MANIAC\n",
      "- Stored: 김민석 - 취중고백\n",
      "- Stored: 태연 (TAEYEON) - 꿈\n",
      "- Stored: KISS OF LIFE - Midas Touch\n",
      "- Stored: 임영웅 - 우리들의 블루스\n",
      "- Stored: 세븐틴 (SEVENTEEN) - MAESTRO\n",
      "- Stored: NewJeans - Right Now\n",
      "- Stored: 임영웅 - 온기\n",
      "- Stored: 10CM - 봄눈\n",
      "- Stored: Red Velvet (레드벨벳) - Cosmic\n",
      "- Stored: NCT 127 - 삐그덕 (Walk)\n",
      "- Stored: LE SSERAFIM (르세라핌) - EASY\n",
      "- Stored: 아일릿(ILLIT) - Lucky Girl Syndrome\n",
      "- Stored: 방탄소년단 - 봄날\n",
      "- Stored: 임영웅 - 모래 알갱이\n",
      "- Stored: 하동균 - 내가 그댈\n",
      "- Stored: RIIZE - Impossible\n",
      "- Stored: 임영웅 - 다시 만날 수 있을까\n",
      "- Stored: 임영웅 - Home\n",
      "- Stored: 임영웅 - 이제 나만 믿어요\n",
      "- Stored: PLAVE - WAY 4 LUV\n",
      "- Stored: RIIZE - Siren\n",
      "- Stored: 임한별 - 사랑하지 않아서 그랬어\n",
      "- Stored: 임영웅 - 무지개\n",
      "- Stored: 임영웅 - Do or Die\n",
      "- Stored: 임영웅 - London Boy\n",
      "- Stored: 임영웅 - Polaroid\n",
      "- Stored: DK(디셈버) - 심(心)\n",
      "- Stored: 로이킴 - 잘 지내자, 우리 (여름날 우리 X 로이킴)\n",
      "- Stored: LE SSERAFIM (르세라핌) - Smart\n",
      "- Stored: PLAVE - 우리 영화\n",
      "- Stored: 순순희(기태) - 그대가 내 안에 박혔다(그내박)\n",
      "- Stored: 임영웅 - 인생찬가\n",
      "- Stored: 세븐틴 (SEVENTEEN) - 손오공\n"
     ]
    }
   ],
   "source": [
    "// Invoke the plugin - Add Melon Chart data\n",
    "await kernel.InvokeAsync(\n",
    "    pluginName: nameof(AddMelonChartPlugin),\n",
    "    functionName: nameof(AddMelonChartPlugin.AddChart), \n",
    "    arguments: new KernelArguments()\n",
    "    {\n",
    "        { \"memory\", memory }, \n",
    "        { \"http\", http },\n",
    "        { \"jso\", jso }, \n",
    "    }\n",
    ");"
   ]
  },
  {
   "cell_type": "code",
   "execution_count": 13,
   "metadata": {
    "dotnet_interactive": {
     "language": "csharp"
    },
    "polyglot_notebook": {
     "kernelName": "csharp"
    },
    "vscode": {
     "languageId": "polyglot-notebook"
    }
   },
   "outputs": [
    {
     "name": "stdout",
     "output_type": "stream",
     "text": [
      "{\"songId\":\"37524037\",\"rank\":1,\"rankStatus\":\"none\",\"rankStatusValue\":0,\"title\":\"Supernova\",\"artist\":\"aespa\",\"album\":\"Armageddon - The 1st Album\",\"image\":\"https://cdnimg.melon.co.kr/cm2/album/images/114/87/023/11487023_20240527154018_500.jpg/melon/resize/120/quality/80/optimize\",\"trackId\":null,\"trackUri\":null,\"danceability\":null,\"valence\":null}\n",
      "{\"songId\":\"37524038\",\"rank\":12,\"rankStatus\":\"none\",\"rankStatusValue\":0,\"title\":\"Armageddon\",\"artist\":\"aespa\",\"album\":\"Armageddon - The 1st Album\",\"image\":\"https://cdnimg.melon.co.kr/cm2/album/images/114/87/023/11487023_20240527154018_500.jpg/melon/resize/120/quality/80/optimize\",\"trackId\":null,\"trackUri\":null,\"danceability\":null,\"valence\":null}\n",
      "{\"songId\":\"36956630\",\"rank\":41,\"rankStatus\":\"none\",\"rankStatusValue\":0,\"title\":\"Drama\",\"artist\":\"aespa\",\"album\":\"Drama - The 4th Mini Album\",\"image\":\"https://cdnimg.melon.co.kr/cm2/album/images/113/62/544/11362544_20231110142622_500.jpg/melon/resize/120/quality/80/optimize\",\"trackId\":null,\"trackUri\":null,\"danceability\":null,\"valence\":null}\n",
      "{\"songId\":\"36416114\",\"rank\":44,\"rankStatus\":\"none\",\"rankStatusValue\":0,\"title\":\"Spicy\",\"artist\":\"aespa\",\"album\":\"MY WORLD - The 3rd Mini Album\",\"image\":\"https://cdnimg.melon.co.kr/cm2/album/images/112/36/264/11236264_20230508184331_500.jpg/melon/resize/120/quality/80/optimize\",\"trackId\":null,\"trackUri\":null,\"danceability\":null,\"valence\":null}\n",
      "{\"songId\":\"37390939\",\"rank\":7,\"rankStatus\":\"none\",\"rankStatusValue\":0,\"title\":\"소나기\",\"artist\":\"이클립스 (ECLIPSE)\",\"album\":\"선재 업고 튀어 OST Part 1\",\"image\":\"https://cdnimg.melon.co.kr/cm2/album/images/114/59/325/11459325_20240405171054_500.jpg/melon/resize/120/quality/80/optimize\",\"trackId\":null,\"trackUri\":null,\"danceability\":null,\"valence\":null}\n",
      "{\"songId\":\"36062335\",\"rank\":98,\"rankStatus\":\"none\",\"rankStatusValue\":0,\"title\":\"그대가 내 안에 박혔다(그내박)\",\"artist\":\"순순희(기태)\",\"album\":\"그대가 내 안에 박혔다(그내박)\",\"image\":\"https://cdnimg.melon.co.kr/cm2/album/images/111/54/218/11154218_20230120135907_500.jpg/melon/resize/120/quality/80/optimize\",\"trackId\":null,\"trackUri\":null,\"danceability\":null,\"valence\":null}\n",
      "{\"songId\":\"32061975\",\"rank\":64,\"rankStatus\":\"none\",\"rankStatusValue\":0,\"title\":\"어떻게 이별까지 사랑하겠어, 널 사랑하는 거지\",\"artist\":\"AKMU (악뮤)\",\"album\":\"항해\",\"image\":\"https://cdnimg.melon.co.kr/cm2/album/images/103/31/947/10331947_500.jpg/melon/resize/120/quality/80/optimize\",\"trackId\":null,\"trackUri\":null,\"danceability\":null,\"valence\":null}\n",
      "{\"songId\":\"34657844\",\"rank\":43,\"rankStatus\":\"none\",\"rankStatusValue\":0,\"title\":\"사랑인가 봐\",\"artist\":\"멜로망스\",\"album\":\"사랑인가 봐 (사내맞선 OST 스페셜 트랙)\",\"image\":\"https://cdnimg.melon.co.kr/cm2/album/images/108/71/162/10871162_20220217162422_500.jpg/melon/resize/120/quality/80/optimize\",\"trackId\":null,\"trackUri\":null,\"danceability\":null,\"valence\":null}\n",
      "{\"songId\":\"37053556\",\"rank\":20,\"rankStatus\":\"none\",\"rankStatusValue\":0,\"title\":\"에피소드\",\"artist\":\"이무진\",\"album\":\"에피소드\",\"image\":\"https://cdnimg.melon.co.kr/cm2/album/images/113/82/987/11382987_20231212165916_500.jpg/melon/resize/120/quality/80/optimize\",\"trackId\":null,\"trackUri\":null,\"danceability\":null,\"valence\":null}\n",
      "{\"songId\":\"36110996\",\"rank\":51,\"rankStatus\":\"none\",\"rankStatusValue\":0,\"title\":\"파이팅 해야지 (Feat. 이영지)\",\"artist\":\"부석순 (SEVENTEEN)\",\"album\":\"부석순 1st Single Album 'SECOND WIND'\",\"image\":\"https://cdnimg.melon.co.kr/cm2/album/images/111/66/539/11166539_20230207143921_500.jpg/melon/resize/120/quality/80/optimize\",\"trackId\":null,\"trackUri\":null,\"danceability\":null,\"valence\":null}\n",
      "{\"songId\":\"33496587\",\"rank\":66,\"rankStatus\":\"none\",\"rankStatusValue\":0,\"title\":\"다정히 내 이름을 부르면\",\"artist\":\"경서예지\",\"album\":\"다정히 내 이름을 부르면 (경서예지 x 전건호)\",\"image\":\"https://cdnimg.melon.co.kr/cm2/album/images/106/10/525/10610525_20210518143433_500.jpg/melon/resize/120/quality/80/optimize\",\"trackId\":null,\"trackUri\":null,\"danceability\":null,\"valence\":null}\n",
      "{\"songId\":\"36382580\",\"rank\":35,\"rankStatus\":\"none\",\"rankStatusValue\":0,\"title\":\"헤어지자 말해요\",\"artist\":\"박재정\",\"album\":\"1집 Alone\",\"image\":\"https://cdnimg.melon.co.kr/cm2/album/images/112/27/533/11227533_20230419162238_500.jpg/melon/resize/120/quality/80/optimize\",\"trackId\":null,\"trackUri\":null,\"danceability\":null,\"valence\":null}\n",
      "{\"songId\":\"37668675\",\"rank\":62,\"rankStatus\":\"none\",\"rankStatusValue\":0,\"title\":\"네가 내 마음에 자리 잡았다 (Into You)\",\"artist\":\"엔플라잉 (N.Flying)\",\"album\":\"네가 내 마음에 자리 잡았다\",\"image\":\"https://cdnimg.melon.co.kr/cm2/album/images/115/20/156/11520156_20240624152617_500.jpg/melon/resize/120/quality/80/optimize\",\"trackId\":null,\"trackUri\":null,\"danceability\":null,\"valence\":null}\n",
      "{\"songId\":\"37225604\",\"rank\":78,\"rankStatus\":\"none\",\"rankStatusValue\":0,\"title\":\"EASY\",\"artist\":\"LE SSERAFIM (르세라핌)\",\"album\":\"EASY\",\"image\":\"https://cdnimg.melon.co.kr/cm2/album/images/114/07/156/11407156_20240219142535_500.jpg/melon/resize/120/quality/80/optimize\",\"trackId\":null,\"trackUri\":null,\"danceability\":null,\"valence\":null}\n",
      "{\"songId\":\"30962526\",\"rank\":59,\"rankStatus\":\"up\",\"rankStatusValue\":1,\"title\":\"모든 날, 모든 순간 (Every day, Every Moment)\",\"artist\":\"폴킴\",\"album\":\"'키스 먼저 할까요?' OST Part.3\",\"image\":\"https://cdnimg.melon.co.kr/cm/album/images/101/49/492/10149492_500.jpg/melon/resize/120/quality/80/optimize\",\"trackId\":null,\"trackUri\":null,\"danceability\":null,\"valence\":null}\n",
      "{\"songId\":\"37489444\",\"rank\":54,\"rankStatus\":\"none\",\"rankStatusValue\":0,\"title\":\"그랬나봐\",\"artist\":\"유회승 (엔플라잉)\",\"album\":\"선재 업고 튀어 OST Part 6\",\"image\":\"https://cdnimg.melon.co.kr/cm2/album/images/114/80/740/11480740_20240503112506_500.jpg/melon/resize/120/quality/80/optimize\",\"trackId\":null,\"trackUri\":null,\"danceability\":null,\"valence\":null}\n",
      "{\"songId\":\"37248286\",\"rank\":97,\"rankStatus\":\"none\",\"rankStatusValue\":0,\"title\":\"우리 영화\",\"artist\":\"PLAVE\",\"album\":\"ASTERUM : 134-1\",\"image\":\"https://cdnimg.melon.co.kr/cm2/album/images/114/27/101/11427101_20240223153059_500.jpg/melon/resize/120/quality/80/optimize\",\"trackId\":null,\"trackUri\":null,\"danceability\":null,\"valence\":null}\n",
      "{\"songId\":\"30232719\",\"rank\":18,\"rankStatus\":\"none\",\"rankStatusValue\":0,\"title\":\"예뻤어\",\"artist\":\"DAY6 (데이식스)\",\"album\":\"Every DAY6 February\",\"image\":\"https://cdnimg.melon.co.kr/cm/album/images/100/36/099/10036099_500.jpg/melon/resize/120/quality/80/optimize\",\"trackId\":null,\"trackUri\":null,\"danceability\":null,\"valence\":null}\n",
      "{\"songId\":\"37667860\",\"rank\":29,\"rankStatus\":\"none\",\"rankStatusValue\":0,\"title\":\"내가 S면 넌 나의 N이 되어줘\",\"artist\":\"TWS (투어스)\",\"album\":\"TWS 2nd Mini Album ‘SUMMER BEAT!’\",\"image\":\"https://cdnimg.melon.co.kr/cm2/album/images/115/05/319/11505319_20240624143253_500.jpg/melon/resize/120/quality/80/optimize\",\"trackId\":null,\"trackUri\":null,\"danceability\":null,\"valence\":null}\n",
      "{\"songId\":\"36502910\",\"rank\":81,\"rankStatus\":\"none\",\"rankStatusValue\":0,\"title\":\"모래 알갱이\",\"artist\":\"임영웅\",\"album\":\"모래 알갱이\",\"image\":\"https://cdnimg.melon.co.kr/cm2/album/images/112/58/233/11258233_20230605094802_500.jpg/melon/resize/120/quality/80/optimize\",\"trackId\":null,\"trackUri\":null,\"danceability\":null,\"valence\":null}\n",
      "{\"songId\":\"37460832\",\"rank\":15,\"rankStatus\":\"none\",\"rankStatusValue\":0,\"title\":\"SPOT! (feat. JENNIE)\",\"artist\":\"지코 (ZICO)\",\"album\":\"SPOT!\",\"image\":\"https://cdnimg.melon.co.kr/cm2/album/images/114/74/894/11474894_20240426103349_500.jpg/melon/resize/120/quality/80/optimize\",\"trackId\":null,\"trackUri\":null,\"danceability\":null,\"valence\":null}\n",
      "{\"songId\":\"36180700\",\"rank\":94,\"rankStatus\":\"none\",\"rankStatusValue\":0,\"title\":\"심(心)\",\"artist\":\"DK(디셈버)\",\"album\":\"심(心)\",\"image\":\"https://cdnimg.melon.co.kr/cm2/album/images/111/80/278/11180278_20230217160723_500.jpg/melon/resize/120/quality/80/optimize\",\"trackId\":null,\"trackUri\":null,\"danceability\":null,\"valence\":null}\n",
      "{\"songId\":\"37140709\",\"rank\":16,\"rankStatus\":\"none\",\"rankStatusValue\":0,\"title\":\"첫 만남은 계획대로 되지 않아\",\"artist\":\"TWS (투어스)\",\"album\":\"TWS 1st Mini Album ‘Sparkling Blue’\",\"image\":\"https://cdnimg.melon.co.kr/cm2/album/images/113/91/902/11391902_20240122132041_500.jpg/melon/resize/120/quality/80/optimize\",\"trackId\":null,\"trackUri\":null,\"danceability\":null,\"valence\":null}\n",
      "{\"songId\":\"37497123\",\"rank\":49,\"rankStatus\":\"none\",\"rankStatusValue\":0,\"title\":\"Girls Never Die\",\"artist\":\"tripleS (트리플에스)\",\"album\":\"〈ASSEMBLE24〉\",\"image\":\"https://cdnimg.melon.co.kr/cm2/album/images/114/82/512/11482512_20240507163129_500.jpg/melon/resize/120/quality/80/optimize\",\"trackId\":null,\"trackUri\":null,\"danceability\":null,\"valence\":null}\n",
      "{\"songId\":\"37225606\",\"rank\":96,\"rankStatus\":\"none\",\"rankStatusValue\":0,\"title\":\"Smart\",\"artist\":\"LE SSERAFIM (르세라핌)\",\"album\":\"EASY\",\"image\":\"https://cdnimg.melon.co.kr/cm2/album/images/114/07/156/11407156_20240219142535_500.jpg/melon/resize/120/quality/80/optimize\",\"trackId\":null,\"trackUri\":null,\"danceability\":null,\"valence\":null}\n",
      "{\"songId\":\"34061322\",\"rank\":39,\"rankStatus\":\"none\",\"rankStatusValue\":0,\"title\":\"사랑은 늘 도망가\",\"artist\":\"임영웅\",\"album\":\"신사와 아가씨 OST Part.2\",\"image\":\"https://cdnimg.melon.co.kr/cm2/album/images/107/35/654/10735654_20211008114339_500.jpg/melon/resize/120/quality/80/optimize\",\"trackId\":null,\"trackUri\":null,\"danceability\":null,\"valence\":null}\n",
      "{\"songId\":\"35454426\",\"rank\":23,\"rankStatus\":\"none\",\"rankStatusValue\":0,\"title\":\"Hype Boy\",\"artist\":\"NewJeans\",\"album\":\"NewJeans 1st EP 'New Jeans'\",\"image\":\"https://cdnimg.melon.co.kr/cm2/album/images/110/11/565/11011565_20220801102637_500.jpg/melon/resize/120/quality/80/optimize\",\"trackId\":null,\"trackUri\":null,\"danceability\":null,\"valence\":null}\n",
      "{\"songId\":\"34819473\",\"rank\":50,\"rankStatus\":\"none\",\"rankStatusValue\":0,\"title\":\"사건의 지평선\",\"artist\":\"윤하 (YOUNHA)\",\"album\":\"YOUNHA 6th Album Repackage 'END THEORY : Final Edition'\",\"image\":\"https://cdnimg.melon.co.kr/cm2/album/images/109/03/868/10903868_20220330103544_500.jpg/melon/resize/120/quality/80/optimize\",\"trackId\":null,\"trackUri\":null,\"danceability\":null,\"valence\":null}\n",
      "{\"songId\":\"4446485\",\"rank\":42,\"rankStatus\":\"none\",\"rankStatusValue\":0,\"title\":\"너의 모든 순간\",\"artist\":\"성시경\",\"album\":\"별에서 온 그대 OST Part.7\",\"image\":\"https://cdnimg.melon.co.kr/cm/album/images/022/32/505/2232505_500.jpg/melon/resize/120/quality/80/optimize\",\"trackId\":null,\"trackUri\":null,\"danceability\":null,\"valence\":null}\n",
      "{\"songId\":\"32508053\",\"rank\":86,\"rankStatus\":\"none\",\"rankStatusValue\":0,\"title\":\"이제 나만 믿어요\",\"artist\":\"임영웅\",\"album\":\"내일은 미스터트롯 우승자 특전곡\",\"image\":\"https://cdnimg.melon.co.kr/cm2/album/images/104/12/319/10412319_20200403103006_500.jpg/melon/resize/120/quality/80/optimize\",\"trackId\":null,\"trackUri\":null,\"danceability\":null,\"valence\":null}\n",
      "{\"songId\":\"37228861\",\"rank\":19,\"rankStatus\":\"none\",\"rankStatusValue\":0,\"title\":\"천상연\",\"artist\":\"이창섭\",\"album\":\"천상연 (웹툰 '선녀외전' X 이창섭 (LEE CHANGSUB))\",\"image\":\"https://cdnimg.melon.co.kr/cm2/album/images/114/21/941/11421941_20240220105008_500.jpg/melon/resize/120/quality/80/optimize\",\"trackId\":null,\"trackUri\":null,\"danceability\":null,\"valence\":null}\n",
      "{\"songId\":\"37659315\",\"rank\":82,\"rankStatus\":\"none\",\"rankStatusValue\":0,\"title\":\"내가 그댈\",\"artist\":\"하동균\",\"album\":\"내가 그댈\",\"image\":\"https://cdnimg.melon.co.kr/cm2/album/images/115/18/346/11518346_20240621103409_500.jpg/melon/resize/120/quality/80/optimize\",\"trackId\":null,\"trackUri\":null,\"danceability\":null,\"valence\":null}\n",
      "{\"songId\":\"37138469\",\"rank\":11,\"rankStatus\":\"none\",\"rankStatusValue\":0,\"title\":\"나는 아픈 건 딱 질색이니까\",\"artist\":\"(여자)아이들\",\"album\":\"2\",\"image\":\"https://cdnimg.melon.co.kr/cm2/album/images/114/02/655/11402655_20240129121016_500.jpg/melon/resize/120/quality/80/optimize\",\"trackId\":null,\"trackUri\":null,\"danceability\":null,\"valence\":null}\n",
      "{\"songId\":\"36334401\",\"rank\":89,\"rankStatus\":\"none\",\"rankStatusValue\":0,\"title\":\"사랑하지 않아서 그랬어\",\"artist\":\"임한별\",\"album\":\"사랑하지 않아서 그랬어\",\"image\":\"https://cdnimg.melon.co.kr/cm2/album/images/112/15/072/11215072_20230331123824_500.jpg/melon/resize/120/quality/80/optimize\",\"trackId\":null,\"trackUri\":null,\"danceability\":null,\"valence\":null}\n",
      "{\"songId\":\"37491072\",\"rank\":74,\"rankStatus\":\"none\",\"rankStatusValue\":0,\"title\":\"온기\",\"artist\":\"임영웅\",\"album\":\"온기\",\"image\":\"https://cdnimg.melon.co.kr/cm2/album/images/114/81/211/11481211_20240503151321_500.jpg/melon/resize/120/quality/80/optimize\",\"trackId\":null,\"trackUri\":null,\"danceability\":null,\"valence\":null}\n",
      "{\"songId\":\"36635522\",\"rank\":31,\"rankStatus\":\"none\",\"rankStatusValue\":0,\"title\":\"ETA\",\"artist\":\"NewJeans\",\"album\":\"NewJeans 2nd EP 'Get Up'\",\"image\":\"https://cdnimg.melon.co.kr/cm2/album/images/112/81/456/11281456_20230706180841_500.jpg/melon/resize/120/quality/80/optimize\",\"trackId\":null,\"trackUri\":null,\"danceability\":null,\"valence\":null}\n",
      "{\"songId\":\"36713849\",\"rank\":60,\"rankStatus\":\"down\",\"rankStatusValue\":1,\"title\":\"Love Lee\",\"artist\":\"AKMU (악뮤)\",\"album\":\"Love Lee\",\"image\":\"https://cdnimg.melon.co.kr/cm2/album/images/113/09/190/11309190_20230818161008_500.jpg/melon/resize/120/quality/80/optimize\",\"trackId\":null,\"trackUri\":null,\"danceability\":null,\"valence\":null}\n",
      "{\"songId\":\"37344905\",\"rank\":21,\"rankStatus\":\"none\",\"rankStatusValue\":0,\"title\":\"미안해 미워해 사랑해\",\"artist\":\"Crush\",\"album\":\"눈물의 여왕 OST Part.4\",\"image\":\"https://cdnimg.melon.co.kr/cm2/album/images/114/49/278/11449278_20240322170237_500.jpg/melon/resize/120/quality/80/optimize\",\"trackId\":null,\"trackUri\":null,\"danceability\":null,\"valence\":null}\n",
      "{\"songId\":\"31927275\",\"rank\":10,\"rankStatus\":\"none\",\"rankStatusValue\":0,\"title\":\"한 페이지가 될 수 있게\",\"artist\":\"DAY6 (데이식스)\",\"album\":\"The Book of Us : Gravity\",\"image\":\"https://cdnimg.melon.co.kr/cm/album/images/103/07/346/10307346_500.jpg/melon/resize/120/quality/80/optimize\",\"trackId\":null,\"trackUri\":null,\"danceability\":null,\"valence\":null}\n",
      "{\"songId\":\"37347913\",\"rank\":79,\"rankStatus\":\"none\",\"rankStatusValue\":0,\"title\":\"Lucky Girl Syndrome\",\"artist\":\"아일릿(ILLIT)\",\"album\":\"SUPER REAL ME\",\"image\":\"https://cdnimg.melon.co.kr/cm2/album/images/114/50/069/11450069_20240325110702_500.jpg/melon/resize/120/quality/80/optimize\",\"trackId\":null,\"trackUri\":null,\"danceability\":null,\"valence\":null}\n",
      "{\"songId\":\"37526257\",\"rank\":75,\"rankStatus\":\"none\",\"rankStatusValue\":0,\"title\":\"봄눈\",\"artist\":\"10CM\",\"album\":\"선재 업고 튀어 OST Part 8\",\"image\":\"https://cdnimg.melon.co.kr/cm2/album/images/114/87/566/11487566_20240513144509_500.jpg/melon/resize/120/quality/80/optimize\",\"trackId\":null,\"trackUri\":null,\"danceability\":null,\"valence\":null}\n",
      "{\"songId\":\"36855841\",\"rank\":91,\"rankStatus\":\"none\",\"rankStatusValue\":0,\"title\":\"Do or Die\",\"artist\":\"임영웅\",\"album\":\"Do or Die\",\"image\":\"https://cdnimg.melon.co.kr/cm2/album/images/113/40/391/11340391_20231006154621_500.jpg/melon/resize/120/quality/80/optimize\",\"trackId\":null,\"trackUri\":null,\"danceability\":null,\"valence\":null}\n",
      "{\"songId\":\"31666417\",\"rank\":48,\"rankStatus\":\"none\",\"rankStatusValue\":0,\"title\":\"주저하는 연인들을 위해\",\"artist\":\"잔나비\",\"album\":\"전설\",\"image\":\"https://cdnimg.melon.co.kr/cm/album/images/102/60/858/10260858_500.jpg/melon/resize/120/quality/80/optimize\",\"trackId\":null,\"trackUri\":null,\"danceability\":null,\"valence\":null}\n",
      "{\"songId\":\"34431086\",\"rank\":68,\"rankStatus\":\"none\",\"rankStatusValue\":0,\"title\":\"취중고백\",\"artist\":\"김민석\",\"album\":\"취중고백\",\"image\":\"https://cdnimg.melon.co.kr/cm2/album/images/108/16/959/10816959_20211217144957_500.jpg/melon/resize/120/quality/80/optimize\",\"trackId\":null,\"trackUri\":null,\"danceability\":null,\"valence\":null}\n",
      "{\"songId\":\"37375706\",\"rank\":46,\"rankStatus\":\"none\",\"rankStatusValue\":0,\"title\":\"청혼하지 않을 이유를 못 찾았어\",\"artist\":\"이무진\",\"album\":\"청혼하지 않을 이유를 못 찾았어\",\"image\":\"https://cdnimg.melon.co.kr/cm2/album/images/114/55/285/11455285_20240401151801_500.jpg/melon/resize/120/quality/80/optimize\",\"trackId\":null,\"trackUri\":null,\"danceability\":null,\"valence\":null}\n",
      "{\"songId\":\"30244931\",\"rank\":80,\"rankStatus\":\"none\",\"rankStatusValue\":0,\"title\":\"봄날\",\"artist\":\"방탄소년단\",\"album\":\"YOU NEVER WALK ALONE\",\"image\":\"https://cdnimg.melon.co.kr/cm/album/images/100/37/969/10037969_500.jpg/melon/resize/120/quality/80/optimize\",\"trackId\":null,\"trackUri\":null,\"danceability\":null,\"valence\":null}\n",
      "{\"songId\":\"36595401\",\"rank\":95,\"rankStatus\":\"none\",\"rankStatusValue\":0,\"title\":\"잘 지내자, 우리 (여름날 우리 X 로이킴)\",\"artist\":\"로이킴\",\"album\":\"잘 지내자, 우리 (여름날 우리 X 로이킴)\",\"image\":\"https://cdnimg.melon.co.kr/cm2/album/images/112/80/645/11280645_20230705152407_500.jpg/melon/resize/120/quality/80/optimize\",\"trackId\":null,\"trackUri\":null,\"danceability\":null,\"valence\":null}\n",
      "{\"songId\":\"37069064\",\"rank\":26,\"rankStatus\":\"none\",\"rankStatusValue\":0,\"title\":\"슬픈 초대장\",\"artist\":\"순순희 (지환)\",\"album\":\"슬픈 초대장\",\"image\":\"https://cdnimg.melon.co.kr/cm2/album/images/113/86/568/11386568_20231218192452_500.jpg/melon/resize/120/quality/80/optimize\",\"trackId\":null,\"trackUri\":null,\"danceability\":null,\"valence\":null}\n",
      "{\"songId\":\"37657039\",\"rank\":3,\"rankStatus\":\"none\",\"rankStatusValue\":0,\"title\":\"Small girl (feat. 도경수(D.O.))\",\"artist\":\"이영지\",\"album\":\"16 Fantasy\",\"image\":\"https://cdnimg.melon.co.kr/cm2/album/images/115/17/951/11517951_20240620173412_500.jpg/melon/resize/120/quality/80/optimize\",\"trackId\":null,\"trackUri\":null,\"danceability\":null,\"valence\":null}\n",
      "{\"songId\":\"36356993\",\"rank\":27,\"rankStatus\":\"none\",\"rankStatusValue\":0,\"title\":\"I AM\",\"artist\":\"IVE (아이브)\",\"album\":\"I've IVE\",\"image\":\"https://cdnimg.melon.co.kr/cm2/album/images/112/11/297/11211297_20230410151046_500.jpg/melon/resize/120/quality/80/optimize\",\"trackId\":null,\"trackUri\":null,\"danceability\":null,\"valence\":null}\n",
      "{\"songId\":\"35454425\",\"rank\":38,\"rankStatus\":\"none\",\"rankStatusValue\":0,\"title\":\"Attention\",\"artist\":\"NewJeans\",\"album\":\"NewJeans 1st EP 'New Jeans'\",\"image\":\"https://cdnimg.melon.co.kr/cm2/album/images/110/11/565/11011565_20220801102637_500.jpg/melon/resize/120/quality/80/optimize\",\"trackId\":null,\"trackUri\":null,\"danceability\":null,\"valence\":null}\n",
      "{\"songId\":\"37463572\",\"rank\":14,\"rankStatus\":\"none\",\"rankStatusValue\":0,\"title\":\"해야 (HEYA)\",\"artist\":\"IVE (아이브)\",\"album\":\"IVE SWITCH\",\"image\":\"https://cdnimg.melon.co.kr/cm2/album/images/114/75/530/11475530_20240430093854_500.jpg/melon/resize/120/quality/80/optimize\",\"trackId\":null,\"trackUri\":null,\"danceability\":null,\"valence\":null}\n",
      "{\"songId\":\"32872978\",\"rank\":63,\"rankStatus\":\"none\",\"rankStatusValue\":0,\"title\":\"Dynamite\",\"artist\":\"방탄소년단\",\"album\":\"Dynamite (DayTime Version)\",\"image\":\"https://cdnimg.melon.co.kr/cm2/album/images/104/79/150/10479150_20200918102847_500.jpg/melon/resize/120/quality/80/optimize\",\"trackId\":null,\"trackUri\":null,\"danceability\":null,\"valence\":null}\n",
      "{\"songId\":\"37023625\",\"rank\":25,\"rankStatus\":\"none\",\"rankStatusValue\":0,\"title\":\"비의 랩소디\",\"artist\":\"임재현\",\"album\":\"비의 랩소디\",\"image\":\"https://cdnimg.melon.co.kr/cm2/album/images/113/76/816/11376816_20231201120653_500.jpg/melon/resize/120/quality/80/optimize\",\"trackId\":null,\"trackUri\":null,\"danceability\":null,\"valence\":null}\n",
      "{\"songId\":\"37635628\",\"rank\":32,\"rankStatus\":\"none\",\"rankStatusValue\":0,\"title\":\"오래된 노래\",\"artist\":\"허각\",\"album\":\"오래된 노래\",\"image\":\"https://cdnimg.melon.co.kr/cm2/album/images/115/13/169/11513169_20240614150349_500.jpg/melon/resize/120/quality/80/optimize\",\"trackId\":null,\"trackUri\":null,\"danceability\":null,\"valence\":null}\n"
     ]
    }
   ],
   "source": [
    "// Invoke the plugin - Find songs\n",
    "var results = await kernel.InvokeAsync(\n",
    "    pluginName: nameof(AddMelonChartPlugin),\n",
    "    functionName: nameof(AddMelonChartPlugin.FindSongs), \n",
    "    arguments: new KernelArguments()\n",
    "    {\n",
    "        { \"memory\", memory }, \n",
    "        { \"question\", refined },\n",
    "        { \"jso\", jso }, \n",
    "    }\n",
    ");\n",
    "\n",
    "var data = results.GetValue<List<ChartItem>>().Select(p => JsonSerializer.Serialize(p, jso)).Aggregate((x, y) => $\"{x}\\n{y}\");\n",
    "\n",
    "Console.WriteLine(data);"
   ]
  },
  {
   "cell_type": "code",
   "execution_count": 14,
   "metadata": {
    "dotnet_interactive": {
     "language": "csharp"
    },
    "polyglot_notebook": {
     "kernelName": "csharp"
    },
    "vscode": {
     "languageId": "polyglot-notebook"
    }
   },
   "outputs": [
    {
     "name": "stdout",
     "output_type": "stream",
     "text": [
      "aespa|1|Supernova|Armageddon - The 1st Album\n",
      "aespa|12|Armageddon|Armageddon - The 1st Album\n",
      "aespa|41|Drama|Drama - The 4th Mini Album\n",
      "aespa|44|Spicy|MY WORLD - The 3rd Mini Album\n",
      "이클립스 (ECLIPSE)|7|소나기|선재 업고 튀어 OST Part 1\n",
      "순순희(기태)|98|그대가 내 안에 박혔다(그내박)|그대가 내 안에 박혔다(그내박)\n",
      "AKMU (악뮤)|64|어떻게 이별까지 사랑하겠어, 널 사랑하는 거지|항해\n",
      "멜로망스|43|사랑인가 봐|사랑인가 봐 (사내맞선 OST 스페셜 트랙)\n",
      "이무진|20|에피소드|에피소드\n",
      "부석순 (SEVENTEEN)|51|파이팅 해야지 (Feat. 이영지)|부석순 1st Single Album 'SECOND WIND'\n",
      "경서예지|66|다정히 내 이름을 부르면|다정히 내 이름을 부르면 (경서예지 x 전건호)\n",
      "박재정|35|헤어지자 말해요|1집 Alone\n",
      "엔플라잉 (N.Flying)|62|네가 내 마음에 자리 잡았다 (Into You)|네가 내 마음에 자리 잡았다\n",
      "LE SSERAFIM (르세라핌)|78|EASY|EASY\n",
      "폴킴|59|모든 날, 모든 순간 (Every day, Every Moment)|'키스 먼저 할까요?' OST Part.3\n",
      "유회승 (엔플라잉)|54|그랬나봐|선재 업고 튀어 OST Part 6\n",
      "PLAVE|97|우리 영화|ASTERUM : 134-1\n",
      "DAY6 (데이식스)|18|예뻤어|Every DAY6 February\n",
      "TWS (투어스)|29|내가 S면 넌 나의 N이 되어줘|TWS 2nd Mini Album ‘SUMMER BEAT!’\n",
      "임영웅|81|모래 알갱이|모래 알갱이\n",
      "지코 (ZICO)|15|SPOT! (feat. JENNIE)|SPOT!\n",
      "DK(디셈버)|94|심(心)|심(心)\n",
      "TWS (투어스)|16|첫 만남은 계획대로 되지 않아|TWS 1st Mini Album ‘Sparkling Blue’\n",
      "tripleS (트리플에스)|49|Girls Never Die|〈ASSEMBLE24〉\n",
      "LE SSERAFIM (르세라핌)|96|Smart|EASY\n",
      "임영웅|39|다정히 내 이름을 부르면|다정히 내 이름\n"
     ]
    }
   ],
   "source": [
    "// Invoke the prompt - RefineResult\n",
    "var refined = await kernel.InvokeAsync<string>(\n",
    "                        function: prompts[\"RefineResult\"],\n",
    "                        arguments: new KernelArguments()\n",
    "                        {\n",
    "                            { \"input\", data },\n",
    "                            { \"intent\", intent }\n",
    "                        });\n",
    "\n",
    "Console.WriteLine(refined);"
   ]
  }
 ],
 "metadata": {
  "kernelspec": {
   "display_name": ".NET (C#)",
   "language": "C#",
   "name": ".net-csharp"
  },
  "language_info": {
   "name": "python"
  },
  "polyglot_notebook": {
   "kernelInfo": {
    "defaultKernelName": "csharp",
    "items": [
     {
      "aliases": [],
      "name": "csharp"
     }
    ]
   }
  }
 },
 "nbformat": 4,
 "nbformat_minor": 2
}
